{
 "cells": [
  {
   "cell_type": "code",
   "execution_count": 6,
   "id": "8f9fb9c0",
   "metadata": {},
   "outputs": [
    {
     "name": "stdout",
     "output_type": "stream",
     "text": [
      "Collecting pandas\n",
      "  Using cached pandas-1.3.5-cp37-cp37m-macosx_10_9_x86_64.whl (11.0 MB)\n",
      "Requirement already satisfied: python-dateutil>=2.7.3 in /Users/pierre.krzisch/miniforge3/envs/python3.7-env/lib/python3.7/site-packages (from pandas) (2.8.2)\n",
      "Collecting numpy>=1.17.3\n",
      "  Using cached numpy-1.21.6-cp37-cp37m-macosx_10_9_x86_64.whl (16.9 MB)\n",
      "Requirement already satisfied: pytz>=2017.3 in /Users/pierre.krzisch/miniforge3/envs/python3.7-env/lib/python3.7/site-packages (from pandas) (2022.6)\n",
      "Requirement already satisfied: six>=1.5 in /Users/pierre.krzisch/miniforge3/envs/python3.7-env/lib/python3.7/site-packages (from python-dateutil>=2.7.3->pandas) (1.16.0)\n",
      "Installing collected packages: numpy, pandas\n",
      "Successfully installed numpy-1.21.6 pandas-1.3.5\n"
     ]
    }
   ],
   "source": [
    "!pip install pandas"
   ]
  },
  {
   "cell_type": "code",
   "execution_count": 28,
   "id": "6857626c",
   "metadata": {},
   "outputs": [],
   "source": [
    "from urllib.parse import urlparse\n",
    "import pandas as pd\n",
    "import os\n",
    "import requests\n",
    "from requests.exceptions import HTTPError"
   ]
  },
  {
   "cell_type": "code",
   "execution_count": 52,
   "id": "bdead903",
   "metadata": {},
   "outputs": [],
   "source": [
    "# file_name = \"urls.txt\"\n",
    "file_name = \"sample-urls.txt\"\n",
    "file_path = os.getenv(\"HOME\") + \"/dev/perso/mba_ml_in_prod/cloud/aws-simple-sales-forecast/data/\" + file_name"
   ]
  },
  {
   "cell_type": "code",
   "execution_count": 53,
   "id": "4d02578d",
   "metadata": {},
   "outputs": [],
   "source": [
    "df = pd.read_csv(file_path, names=[\"url\"])"
   ]
  },
  {
   "cell_type": "code",
   "execution_count": 54,
   "id": "03e272f5",
   "metadata": {},
   "outputs": [
    {
     "name": "stdout",
     "output_type": "stream",
     "text": [
      "CPU times: user 21.1 s, sys: 1.39 s, total: 22.5 s\n",
      "Wall time: 7min 46s\n"
     ]
    }
   ],
   "source": [
    "%%time\n",
    "\n",
    "i = 0\n",
    "\n",
    "for url in df.url:\n",
    "    try:\n",
    "        response = requests.get(url)\n",
    "        response.raise_for_status()\n",
    "        # access JSOn content\n",
    "        jsonResponse = response.json()\n",
    "        df.loc[i, \"id\"] = jsonResponse[\"id\"]\n",
    "        df.loc[i, \"name\"] = jsonResponse[\"name\"]\n",
    "        df.loc[i, \"past_types\"] = len(jsonResponse[\"past_types\"])\n",
    "        df.loc[i, \"height\"] = jsonResponse[\"height\"]\n",
    "        df.loc[i, \"weight\"] = jsonResponse[\"weight\"]\n",
    "        df.loc[i, \"moves\"] = len(jsonResponse[\"moves\"])\n",
    "        i += 1\n",
    "#         print(df.head())\n",
    "\n",
    "    except HTTPError as http_err:\n",
    "        print(f'HTTP error occurred: {http_err}')\n",
    "    except Exception as err:\n",
    "        print(f'Other error occurred: {err}')\n",
    "\n",
    "# Time to execute: 7min 46s"
   ]
  },
  {
   "cell_type": "code",
   "execution_count": 55,
   "id": "8800f4b9",
   "metadata": {},
   "outputs": [
    {
     "data": {
      "text/html": [
       "<div>\n",
       "<style scoped>\n",
       "    .dataframe tbody tr th:only-of-type {\n",
       "        vertical-align: middle;\n",
       "    }\n",
       "\n",
       "    .dataframe tbody tr th {\n",
       "        vertical-align: top;\n",
       "    }\n",
       "\n",
       "    .dataframe thead th {\n",
       "        text-align: right;\n",
       "    }\n",
       "</style>\n",
       "<table border=\"1\" class=\"dataframe\">\n",
       "  <thead>\n",
       "    <tr style=\"text-align: right;\">\n",
       "      <th></th>\n",
       "      <th>url</th>\n",
       "      <th>id</th>\n",
       "      <th>name</th>\n",
       "      <th>past_types</th>\n",
       "      <th>height</th>\n",
       "      <th>weight</th>\n",
       "      <th>moves</th>\n",
       "    </tr>\n",
       "  </thead>\n",
       "  <tbody>\n",
       "    <tr>\n",
       "      <th>0</th>\n",
       "      <td>https://pokeapi.co/api/v2/pokemon/1/</td>\n",
       "      <td>1.0</td>\n",
       "      <td>bulbasaur</td>\n",
       "      <td>0.0</td>\n",
       "      <td>7.0</td>\n",
       "      <td>69.0</td>\n",
       "      <td>83.0</td>\n",
       "    </tr>\n",
       "    <tr>\n",
       "      <th>1</th>\n",
       "      <td>https://pokeapi.co/api/v2/pokemon/2/</td>\n",
       "      <td>2.0</td>\n",
       "      <td>ivysaur</td>\n",
       "      <td>0.0</td>\n",
       "      <td>10.0</td>\n",
       "      <td>130.0</td>\n",
       "      <td>77.0</td>\n",
       "    </tr>\n",
       "    <tr>\n",
       "      <th>2</th>\n",
       "      <td>https://pokeapi.co/api/v2/pokemon/3/</td>\n",
       "      <td>3.0</td>\n",
       "      <td>venusaur</td>\n",
       "      <td>0.0</td>\n",
       "      <td>20.0</td>\n",
       "      <td>1000.0</td>\n",
       "      <td>90.0</td>\n",
       "    </tr>\n",
       "    <tr>\n",
       "      <th>3</th>\n",
       "      <td>https://pokeapi.co/api/v2/pokemon/4/</td>\n",
       "      <td>4.0</td>\n",
       "      <td>charmander</td>\n",
       "      <td>0.0</td>\n",
       "      <td>6.0</td>\n",
       "      <td>85.0</td>\n",
       "      <td>100.0</td>\n",
       "    </tr>\n",
       "    <tr>\n",
       "      <th>4</th>\n",
       "      <td>https://pokeapi.co/api/v2/pokemon/5/</td>\n",
       "      <td>5.0</td>\n",
       "      <td>charmeleon</td>\n",
       "      <td>0.0</td>\n",
       "      <td>11.0</td>\n",
       "      <td>190.0</td>\n",
       "      <td>93.0</td>\n",
       "    </tr>\n",
       "  </tbody>\n",
       "</table>\n",
       "</div>"
      ],
      "text/plain": [
       "                                    url   id        name  past_types  height  \\\n",
       "0  https://pokeapi.co/api/v2/pokemon/1/  1.0   bulbasaur         0.0     7.0   \n",
       "1  https://pokeapi.co/api/v2/pokemon/2/  2.0     ivysaur         0.0    10.0   \n",
       "2  https://pokeapi.co/api/v2/pokemon/3/  3.0    venusaur         0.0    20.0   \n",
       "3  https://pokeapi.co/api/v2/pokemon/4/  4.0  charmander         0.0     6.0   \n",
       "4  https://pokeapi.co/api/v2/pokemon/5/  5.0  charmeleon         0.0    11.0   \n",
       "\n",
       "   weight  moves  \n",
       "0    69.0   83.0  \n",
       "1   130.0   77.0  \n",
       "2  1000.0   90.0  \n",
       "3    85.0  100.0  \n",
       "4   190.0   93.0  "
      ]
     },
     "execution_count": 55,
     "metadata": {},
     "output_type": "execute_result"
    }
   ],
   "source": [
    "df.head()"
   ]
  },
  {
   "cell_type": "code",
   "execution_count": null,
   "id": "63c8e492",
   "metadata": {},
   "outputs": [],
   "source": []
  }
 ],
 "metadata": {
  "kernelspec": {
   "display_name": "Python 3 (ipykernel)",
   "language": "python",
   "name": "python3"
  },
  "language_info": {
   "codemirror_mode": {
    "name": "ipython",
    "version": 3
   },
   "file_extension": ".py",
   "mimetype": "text/x-python",
   "name": "python",
   "nbconvert_exporter": "python",
   "pygments_lexer": "ipython3",
   "version": "3.7.15"
  }
 },
 "nbformat": 4,
 "nbformat_minor": 5
}
